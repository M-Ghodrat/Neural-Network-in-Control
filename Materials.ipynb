{
 "cells": [
  {
   "cell_type": "markdown",
   "id": "constitutional-chocolate",
   "metadata": {},
   "source": [
    "# Materials"
   ]
  },
  {
   "cell_type": "markdown",
   "id": "warming-horror",
   "metadata": {},
   "source": [
    "### Adaptive neural network PI controller\n",
    "\n",
    "[Youtube](https://www.youtube.com/watch?v=1VjtaBLM51I&ab_channel=ElectricalEngineeringbydjameling)"
   ]
  },
  {
   "cell_type": "markdown",
   "id": "synthetic-welding",
   "metadata": {},
   "source": [
    "### Neural Network for Control\n",
    "\n",
    "[pdf](https://hagan.okstate.edu/HaganDemuthACC99.pdf)"
   ]
  },
  {
   "cell_type": "markdown",
   "id": "worldwide-overhead",
   "metadata": {},
   "source": [
    "### Machine Learning in Control Systems\n",
    "\n",
    "[pdf](https://link-springer-com.login.ezproxy.library.ualberta.ca/content/pdf/10.1007%2F978-3-030-04191-5_23.pdf)"
   ]
  },
  {
   "cell_type": "markdown",
   "id": "conservative-parliament",
   "metadata": {},
   "source": [
    "### Machine learning control (MLC)\n",
    "\n",
    "[pdf](https://faculty.washington.edu/sbrunton/mlcbook/CH02_MLC.pdf)"
   ]
  },
  {
   "cell_type": "code",
   "execution_count": null,
   "id": "aging-boston",
   "metadata": {},
   "outputs": [],
   "source": []
  }
 ],
 "metadata": {
  "kernelspec": {
   "display_name": "Python 3",
   "language": "python",
   "name": "python3"
  },
  "language_info": {
   "codemirror_mode": {
    "name": "ipython",
    "version": 3
   },
   "file_extension": ".py",
   "mimetype": "text/x-python",
   "name": "python",
   "nbconvert_exporter": "python",
   "pygments_lexer": "ipython3",
   "version": "3.7.7"
  }
 },
 "nbformat": 4,
 "nbformat_minor": 5
}

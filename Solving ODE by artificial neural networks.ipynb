{
 "cells": [
  {
   "cell_type": "markdown",
   "id": "naughty-marsh",
   "metadata": {},
   "source": [
    "# Solving ODE by artificial neural networks"
   ]
  },
  {
   "cell_type": "markdown",
   "id": "curious-concept",
   "metadata": {},
   "source": [
    "[link](http://courses.csail.mit.edu/18.337/2017/projects/jiawei_zhuang/final_report_JiaweiZhuang.pdf)"
   ]
  },
  {
   "cell_type": "code",
   "execution_count": null,
   "id": "aerial-africa",
   "metadata": {},
   "outputs": [],
   "source": []
  }
 ],
 "metadata": {
  "kernelspec": {
   "display_name": "Python 3",
   "language": "python",
   "name": "python3"
  },
  "language_info": {
   "codemirror_mode": {
    "name": "ipython",
    "version": 3
   },
   "file_extension": ".py",
   "mimetype": "text/x-python",
   "name": "python",
   "nbconvert_exporter": "python",
   "pygments_lexer": "ipython3",
   "version": "3.7.7"
  }
 },
 "nbformat": 4,
 "nbformat_minor": 5
}
